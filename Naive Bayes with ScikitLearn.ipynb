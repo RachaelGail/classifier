{
 "cells": [
  {
   "cell_type": "code",
   "execution_count": 1,
   "id": "6457cef6",
   "metadata": {},
   "outputs": [],
   "source": [
    "import numpy as np \n",
    "import pandas as pd\n",
    "\n",
    "from sklearn.feature_extraction.text import CountVectorizer\n",
    "from sklearn.model_selection import train_test_split\n",
    "from sklearn.naive_bayes import MultinomialNB\n",
    "from sklearn.metrics import recall_score, precision_score, f1_score"
   ]
  },
  {
   "cell_type": "code",
   "execution_count": 2,
   "id": "bb8a4a51",
   "metadata": {},
   "outputs": [],
   "source": [
    "DATA_JSON_FILE = 'UniversityProject_SpamFilter/01_Processing/email-text-data.json'"
   ]
  },
  {
   "cell_type": "code",
   "execution_count": 3,
   "id": "9670b4f7",
   "metadata": {},
   "outputs": [],
   "source": [
    "data = pd.read_json(DATA_JSON_FILE)"
   ]
  },
  {
   "cell_type": "code",
   "execution_count": 4,
   "id": "78de1e79",
   "metadata": {},
   "outputs": [
    {
     "data": {
      "text/html": [
       "<div>\n",
       "<style scoped>\n",
       "    .dataframe tbody tr th:only-of-type {\n",
       "        vertical-align: middle;\n",
       "    }\n",
       "\n",
       "    .dataframe tbody tr th {\n",
       "        vertical-align: top;\n",
       "    }\n",
       "\n",
       "    .dataframe thead th {\n",
       "        text-align: right;\n",
       "    }\n",
       "</style>\n",
       "<table border=\"1\" class=\"dataframe\">\n",
       "  <thead>\n",
       "    <tr style=\"text-align: right;\">\n",
       "      <th></th>\n",
       "      <th>Message</th>\n",
       "      <th>Category</th>\n",
       "      <th>File_Name</th>\n",
       "    </tr>\n",
       "  </thead>\n",
       "  <tbody>\n",
       "    <tr>\n",
       "      <th>5791</th>\n",
       "      <td>I'm one of the 30,000 but it's not working ver...</td>\n",
       "      <td>0</td>\n",
       "      <td>00609.dd49926ce94a1ea328cce9b62825bc97</td>\n",
       "    </tr>\n",
       "    <tr>\n",
       "      <th>5792</th>\n",
       "      <td>Damien Morton quoted:\\n\\n&gt;W3C approves HTML 4 ...</td>\n",
       "      <td>0</td>\n",
       "      <td>00957.e0b56b117f3ec5f85e432a9d2a47801f</td>\n",
       "    </tr>\n",
       "    <tr>\n",
       "      <th>5793</th>\n",
       "      <td>On Mon, 2002-07-22 at 06:50, che wrote:\\n\\n\\n\\...</td>\n",
       "      <td>0</td>\n",
       "      <td>01127.841233b48eceb74a825417d8d918abf8</td>\n",
       "    </tr>\n",
       "    <tr>\n",
       "      <th>5794</th>\n",
       "      <td>Once upon a time, Manfred wrote :\\n\\n\\n\\n&gt; I w...</td>\n",
       "      <td>0</td>\n",
       "      <td>01178.5c977dff972cd6eef64d4173b90307f0</td>\n",
       "    </tr>\n",
       "    <tr>\n",
       "      <th>5795</th>\n",
       "      <td>If you run Pick, and then use the \"New FTOC\" b...</td>\n",
       "      <td>0</td>\n",
       "      <td>00747.352d424267d36975a7b40b85ffd0885e</td>\n",
       "    </tr>\n",
       "  </tbody>\n",
       "</table>\n",
       "</div>"
      ],
      "text/plain": [
       "                                                Message  Category  \\\n",
       "5791  I'm one of the 30,000 but it's not working ver...         0   \n",
       "5792  Damien Morton quoted:\\n\\n>W3C approves HTML 4 ...         0   \n",
       "5793  On Mon, 2002-07-22 at 06:50, che wrote:\\n\\n\\n\\...         0   \n",
       "5794  Once upon a time, Manfred wrote :\\n\\n\\n\\n> I w...         0   \n",
       "5795  If you run Pick, and then use the \"New FTOC\" b...         0   \n",
       "\n",
       "                                   File_Name  \n",
       "5791  00609.dd49926ce94a1ea328cce9b62825bc97  \n",
       "5792  00957.e0b56b117f3ec5f85e432a9d2a47801f  \n",
       "5793  01127.841233b48eceb74a825417d8d918abf8  \n",
       "5794  01178.5c977dff972cd6eef64d4173b90307f0  \n",
       "5795  00747.352d424267d36975a7b40b85ffd0885e  "
      ]
     },
     "execution_count": 4,
     "metadata": {},
     "output_type": "execute_result"
    }
   ],
   "source": [
    "data.tail()"
   ]
  },
  {
   "cell_type": "code",
   "execution_count": 5,
   "id": "5166614a",
   "metadata": {},
   "outputs": [
    {
     "data": {
      "text/plain": [
       "(5796, 3)"
      ]
     },
     "execution_count": 5,
     "metadata": {},
     "output_type": "execute_result"
    }
   ],
   "source": [
    "data.shape"
   ]
  },
  {
   "cell_type": "code",
   "execution_count": 6,
   "id": "9c7628c7",
   "metadata": {},
   "outputs": [],
   "source": [
    "data.sort_index(inplace = True)"
   ]
  },
  {
   "cell_type": "code",
   "execution_count": 7,
   "id": "2a5a8ea1",
   "metadata": {},
   "outputs": [],
   "source": [
    "#create vectorizer\n",
    "\n",
    "vectorizer = CountVectorizer(stop_words='english')"
   ]
  },
  {
   "cell_type": "code",
   "execution_count": 8,
   "id": "d4be4f0e",
   "metadata": {},
   "outputs": [],
   "source": [
    "#created document term matrix in the previous method, however can do in one line with scikitlean\n",
    "\n",
    "all_features = vectorizer.fit_transform(data.Message)"
   ]
  },
  {
   "cell_type": "code",
   "execution_count": 9,
   "id": "1bb65852",
   "metadata": {},
   "outputs": [
    {
     "data": {
      "text/plain": [
       "(5796, 102694)"
      ]
     },
     "execution_count": 9,
     "metadata": {},
     "output_type": "execute_result"
    }
   ],
   "source": [
    "all_features.shape"
   ]
  },
  {
   "cell_type": "code",
   "execution_count": 10,
   "id": "dea279cf",
   "metadata": {},
   "outputs": [],
   "source": [
    "# vectorizer.vocabulary_ #--> not stemmed words"
   ]
  },
  {
   "cell_type": "code",
   "execution_count": 11,
   "id": "8d9c5fe0",
   "metadata": {},
   "outputs": [],
   "source": [
    "X_train, X_test, y_train, y_test = train_test_split(all_features, data.Category, test_size = 0.3, random_state = 88)"
   ]
  },
  {
   "cell_type": "code",
   "execution_count": 12,
   "id": "d3754879",
   "metadata": {},
   "outputs": [
    {
     "data": {
      "text/plain": [
       "(4057, 102694)"
      ]
     },
     "execution_count": 12,
     "metadata": {},
     "output_type": "execute_result"
    }
   ],
   "source": [
    "X_train.shape"
   ]
  },
  {
   "cell_type": "code",
   "execution_count": 13,
   "id": "f1f7794e",
   "metadata": {},
   "outputs": [
    {
     "data": {
      "text/plain": [
       "(1739, 102694)"
      ]
     },
     "execution_count": 13,
     "metadata": {},
     "output_type": "execute_result"
    }
   ],
   "source": [
    "X_test.shape"
   ]
  },
  {
   "cell_type": "code",
   "execution_count": 14,
   "id": "2b9c39fd",
   "metadata": {},
   "outputs": [],
   "source": [
    "classifier = MultinomialNB()"
   ]
  },
  {
   "cell_type": "raw",
   "id": "e58a88a3",
   "metadata": {},
   "source": [
    "    classifier.fit(X_train, y_train)"
   ]
  },
  {
   "cell_type": "code",
   "execution_count": 15,
   "id": "5197a5ab",
   "metadata": {},
   "outputs": [
    {
     "data": {
      "text/plain": [
       "MultinomialNB()"
      ]
     },
     "execution_count": 15,
     "metadata": {},
     "output_type": "execute_result"
    }
   ],
   "source": [
    " classifier.fit(X_train, y_train)"
   ]
  },
  {
   "cell_type": "code",
   "execution_count": 16,
   "id": "401e7f98",
   "metadata": {},
   "outputs": [],
   "source": [
    "nr_correct = (y_test == classifier.predict(X_test)).sum()"
   ]
  },
  {
   "cell_type": "code",
   "execution_count": 17,
   "id": "44843cc5",
   "metadata": {},
   "outputs": [
    {
     "data": {
      "text/plain": [
       "array([0, 0, 0, ..., 1, 0, 0])"
      ]
     },
     "execution_count": 17,
     "metadata": {},
     "output_type": "execute_result"
    }
   ],
   "source": [
    "classifier.predict(X_test)"
   ]
  },
  {
   "cell_type": "code",
   "execution_count": 18,
   "id": "76caffea",
   "metadata": {},
   "outputs": [
    {
     "name": "stdout",
     "output_type": "stream",
     "text": [
      "1660 documents classified correctly\n"
     ]
    }
   ],
   "source": [
    "print(f'{nr_correct} documents classified correctly')"
   ]
  },
  {
   "cell_type": "code",
   "execution_count": 19,
   "id": "383a0715",
   "metadata": {},
   "outputs": [],
   "source": [
    "nr_incorrect = y_test.size - nr_correct"
   ]
  },
  {
   "cell_type": "code",
   "execution_count": 20,
   "id": "68a76adf",
   "metadata": {},
   "outputs": [
    {
     "name": "stdout",
     "output_type": "stream",
     "text": [
      "79 documents classified incorrectly\n"
     ]
    }
   ],
   "source": [
    "print(f'{nr_incorrect} documents classified incorrectly')"
   ]
  },
  {
   "cell_type": "code",
   "execution_count": 21,
   "id": "952a0aa5",
   "metadata": {},
   "outputs": [
    {
     "name": "stdout",
     "output_type": "stream",
     "text": [
      " The (testing) accuracy of the model is 95.457%\n"
     ]
    }
   ],
   "source": [
    "fraction_wrong = nr_incorrect/ (nr_correct +nr_incorrect)\n",
    "print(f' The (testing) accuracy of the model is {1-fraction_wrong:.3%}')"
   ]
  },
  {
   "cell_type": "code",
   "execution_count": 22,
   "id": "d5e8a65f",
   "metadata": {},
   "outputs": [
    {
     "data": {
      "text/plain": [
       "0.9545715928694652"
      ]
     },
     "execution_count": 22,
     "metadata": {},
     "output_type": "execute_result"
    }
   ],
   "source": [
    "classifier.score(X_test, y_test)"
   ]
  },
  {
   "cell_type": "markdown",
   "id": "71b9cf1a",
   "metadata": {},
   "source": [
    "# Recall Score"
   ]
  },
  {
   "cell_type": "code",
   "execution_count": 23,
   "id": "9a5c300a",
   "metadata": {},
   "outputs": [
    {
     "data": {
      "text/plain": [
       "0.8646209386281588"
      ]
     },
     "execution_count": 23,
     "metadata": {},
     "output_type": "execute_result"
    }
   ],
   "source": [
    "recall_score(y_test, classifier.predict(X_test))"
   ]
  },
  {
   "cell_type": "markdown",
   "id": "c169c172",
   "metadata": {},
   "source": [
    "# Precision"
   ]
  },
  {
   "cell_type": "code",
   "execution_count": 24,
   "id": "12b2a364",
   "metadata": {},
   "outputs": [
    {
     "data": {
      "text/plain": [
       "0.9917184265010351"
      ]
     },
     "execution_count": 24,
     "metadata": {},
     "output_type": "execute_result"
    }
   ],
   "source": [
    "precision_score(y_test, classifier.predict(X_test))"
   ]
  },
  {
   "cell_type": "markdown",
   "id": "5f3169cf",
   "metadata": {},
   "source": [
    "# F1 Score"
   ]
  },
  {
   "cell_type": "code",
   "execution_count": 25,
   "id": "0736aea0",
   "metadata": {},
   "outputs": [
    {
     "data": {
      "text/plain": [
       "0.9238187078109932"
      ]
     },
     "execution_count": 25,
     "metadata": {},
     "output_type": "execute_result"
    }
   ],
   "source": [
    "f1_score(y_test, classifier.predict(X_test))"
   ]
  },
  {
   "cell_type": "code",
   "execution_count": 26,
   "id": "4c801bc8",
   "metadata": {},
   "outputs": [],
   "source": [
    "example = ['get viagra for free now!', \n",
    "          'need a mortgage? Reply to arrange. a call with a specialist and get a quote', \n",
    "          'Could you please help me with the project for tomorrow? ', \n",
    "          'Hello Jonathan, how about a game of Golf tomorrow? ', \n",
    "          'Gaelic football (Irish: Peil Ghaelach; short name Peil[1] or Caid), commonly referred to as football, Gaelic or GAA,[2] is an Irish team sport. It is played between two teams of 15          players on a rectangular grass pitch. The objective of the sport is to score by kicking or punching the ball into the other team\\'s goals (3 points) or between two upright posts above the goals and over a crossbar 2.5 metres (8 ft 2 in) above the ground (1 point).']"
   ]
  },
  {
   "cell_type": "code",
   "execution_count": 27,
   "id": "0175fbc0",
   "metadata": {},
   "outputs": [],
   "source": [
    "dtm = vectorizer.transform(example)"
   ]
  },
  {
   "cell_type": "code",
   "execution_count": 28,
   "id": "c02dc94e",
   "metadata": {},
   "outputs": [
    {
     "data": {
      "text/plain": [
       "array([1, 1, 0, 0, 0])"
      ]
     },
     "execution_count": 28,
     "metadata": {},
     "output_type": "execute_result"
    }
   ],
   "source": [
    "classifier.predict(dtm)"
   ]
  },
  {
   "cell_type": "code",
   "execution_count": null,
   "id": "b81bdf13",
   "metadata": {},
   "outputs": [],
   "source": []
  },
  {
   "cell_type": "code",
   "execution_count": null,
   "id": "d8adc38f",
   "metadata": {},
   "outputs": [],
   "source": []
  },
  {
   "cell_type": "code",
   "execution_count": null,
   "id": "9d1d8890",
   "metadata": {},
   "outputs": [],
   "source": []
  },
  {
   "cell_type": "code",
   "execution_count": null,
   "id": "a900fbf1",
   "metadata": {},
   "outputs": [],
   "source": []
  }
 ],
 "metadata": {
  "kernelspec": {
   "display_name": "Python 3",
   "language": "python",
   "name": "python3"
  },
  "language_info": {
   "codemirror_mode": {
    "name": "ipython",
    "version": 3
   },
   "file_extension": ".py",
   "mimetype": "text/x-python",
   "name": "python",
   "nbconvert_exporter": "python",
   "pygments_lexer": "ipython3",
   "version": "3.8.8"
  }
 },
 "nbformat": 4,
 "nbformat_minor": 5
}
